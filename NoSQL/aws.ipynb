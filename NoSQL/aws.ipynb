{
 "cells": [
  {
   "cell_type": "markdown",
   "metadata": {},
   "source": [
    "# create bucket"
   ]
  },
  {
   "cell_type": "code",
   "execution_count": 2,
   "metadata": {},
   "outputs": [],
   "source": [
    "import boto3"
   ]
  },
  {
   "cell_type": "code",
   "execution_count": 3,
   "metadata": {},
   "outputs": [],
   "source": [
    "with open('secret.csv') as f:\n",
    "    ACCESS_KEY = f.readline().strip()\n",
    "    SECRET_KEY = f.readline().strip()"
   ]
  },
  {
   "cell_type": "code",
   "execution_count": 4,
   "metadata": {},
   "outputs": [],
   "source": [
    "s3 = boto3.resource('s3', \n",
    "    aws_access_key_id=ACCESS_KEY, \n",
    "    aws_secret_access_key=SECRET_KEY, \n",
    ") "
   ]
  },
  {
   "cell_type": "code",
   "execution_count": 6,
   "metadata": {},
   "outputs": [],
   "source": [
    "try: \n",
    "    s3.create_bucket(Bucket='shoot-buckets', CreateBucketConfiguration={ \n",
    "        'LocationConstraint': 'us-west-2'}) \n",
    "except Exception as e: \n",
    "    print (e) "
   ]
  },
  {
   "cell_type": "code",
   "execution_count": 7,
   "metadata": {},
   "outputs": [
    {
     "data": {
      "text/plain": [
       "s3.Bucket(name='shoot-buckets')"
      ]
     },
     "execution_count": 7,
     "metadata": {},
     "output_type": "execute_result"
    }
   ],
   "source": [
    "bucket = s3.Bucket(\"shoot-buckets\")\n",
    "bucket "
   ]
  },
  {
   "cell_type": "code",
   "execution_count": 8,
   "metadata": {},
   "outputs": [
    {
     "data": {
      "text/plain": [
       "{'ResponseMetadata': {'RequestId': '1EB322G2JXP9NPY1',\n",
       "  'HostId': 'a56UzdcEVjhRtpRy0QPrCu2t3TLCA3Pn0bbCGbVw7BTBqUT2Ox4uE+1wGnLxWYVVbwRRlWtUbCs=',\n",
       "  'HTTPStatusCode': 200,\n",
       "  'HTTPHeaders': {'x-amz-id-2': 'a56UzdcEVjhRtpRy0QPrCu2t3TLCA3Pn0bbCGbVw7BTBqUT2Ox4uE+1wGnLxWYVVbwRRlWtUbCs=',\n",
       "   'x-amz-request-id': '1EB322G2JXP9NPY1',\n",
       "   'date': 'Mon, 25 Oct 2021 21:50:22 GMT',\n",
       "   'server': 'AmazonS3',\n",
       "   'content-length': '0'},\n",
       "  'RetryAttempts': 1}}"
      ]
     },
     "execution_count": 8,
     "metadata": {},
     "output_type": "execute_result"
    }
   ],
   "source": [
    "bucket.Acl().put(ACL='public-read') "
   ]
  },
  {
   "cell_type": "code",
   "execution_count": 12,
   "metadata": {},
   "outputs": [],
   "source": [
    "with open('exp1.csv', 'rb') as body:\n",
    "    o = s3.Object('shoot-buckets', 'test').put(Body=body)"
   ]
  },
  {
   "cell_type": "code",
   "execution_count": 14,
   "metadata": {},
   "outputs": [
    {
     "data": {
      "text/plain": [
       "{'ResponseMetadata': {'RequestId': 'FMT7VAZMQP4J2WVJ',\n",
       "  'HostId': 'ay/JjhLkHv5Y/kNJuMqMIsqGHEHu7I4GDOUbWPS5YaulvlBrH8MYwAUVkuCdX2t79yrfa8pQCp8=',\n",
       "  'HTTPStatusCode': 200,\n",
       "  'HTTPHeaders': {'x-amz-id-2': 'ay/JjhLkHv5Y/kNJuMqMIsqGHEHu7I4GDOUbWPS5YaulvlBrH8MYwAUVkuCdX2t79yrfa8pQCp8=',\n",
       "   'x-amz-request-id': 'FMT7VAZMQP4J2WVJ',\n",
       "   'date': 'Mon, 25 Oct 2021 21:51:56 GMT',\n",
       "   'server': 'AmazonS3',\n",
       "   'content-length': '0'},\n",
       "  'RetryAttempts': 0}}"
      ]
     },
     "execution_count": 14,
     "metadata": {},
     "output_type": "execute_result"
    }
   ],
   "source": [
    "s3.Object('shoot-buckets', 'test').Acl().put(ACL='public-read')"
   ]
  },
  {
   "cell_type": "code",
   "execution_count": 19,
   "metadata": {},
   "outputs": [
    {
     "data": {
      "text/plain": [
       "dynamodb.ServiceResource()"
      ]
     },
     "execution_count": 19,
     "metadata": {},
     "output_type": "execute_result"
    }
   ],
   "source": [
    "dyndb = boto3.resource('dynamodb', \n",
    "    region_name='us-west-2', \n",
    "    aws_access_key_id=ACCESS_KEY, \n",
    "    aws_secret_access_key=SECRET_KEY,\n",
    ") \n",
    "dyndb"
   ]
  },
  {
   "cell_type": "code",
   "execution_count": 20,
   "metadata": {},
   "outputs": [],
   "source": [
    "try: \n",
    "    table = dyndb.create_table( \n",
    "        TableName='DataTable', \n",
    "        KeySchema=[ \n",
    "            { \n",
    "                'AttributeName': 'PartitionKey', \n",
    "                'KeyType': 'HASH' \n",
    "            }, \n",
    "            { \n",
    "                'AttributeName': 'RowKey', \n",
    "                'KeyType': 'RANGE' \n",
    "            } \n",
    "        ], \n",
    "        AttributeDefinitions=[ \n",
    "            { \n",
    "                'AttributeName': 'PartitionKey', \n",
    "                'AttributeType': 'S' \n",
    "            }, \n",
    "            { \n",
    "                'AttributeName': 'RowKey', \n",
    "                'AttributeType': 'S' \n",
    "            }, \n",
    " \n",
    "        ], \n",
    "        ProvisionedThroughput={ \n",
    "            'ReadCapacityUnits': 5, \n",
    "            'WriteCapacityUnits': 5 \n",
    "        } \n",
    "    ) \n",
    "except Exception as e: \n",
    "    print (e) \n",
    "    #if there is an exception, the table may already exist.   if so... \n",
    "    table = dyndb.Table(\"DataTable\")"
   ]
  },
  {
   "cell_type": "code",
   "execution_count": 21,
   "metadata": {},
   "outputs": [],
   "source": [
    "table.meta.client.get_waiter('table_exists').wait(TableName='DataTable')"
   ]
  },
  {
   "cell_type": "code",
   "execution_count": 22,
   "metadata": {},
   "outputs": [
    {
     "name": "stdout",
     "output_type": "stream",
     "text": [
      "0\n"
     ]
    }
   ],
   "source": [
    "print(table.item_count) "
   ]
  },
  {
   "cell_type": "code",
   "execution_count": null,
   "metadata": {},
   "outputs": [],
   "source": []
  },
  {
   "cell_type": "markdown",
   "metadata": {},
   "source": [
    "# upload data"
   ]
  },
  {
   "cell_type": "code",
   "execution_count": 26,
   "metadata": {},
   "outputs": [],
   "source": [
    "import csv"
   ]
  },
  {
   "cell_type": "code",
   "execution_count": 36,
   "metadata": {},
   "outputs": [
    {
     "name": "stdout",
     "output_type": "stream",
     "text": [
      "['1', '-1', '52', '3.4', 'exp1.csv']\n",
      "['2', '-2', '52.1', '3.4', 'exp2.csv']\n",
      "['3', '-2.93', '57.1', '3.7', 'exp3.csv']\n"
     ]
    }
   ],
   "source": [
    "with open('experiments.csv', 'r') as csvfile:\n",
    "    csvf = csv.reader(csvfile, delimiter=',', quotechar='|')\n",
    "    for _ in csvf: break\n",
    "    for item in csvf:\n",
    "        print(item)\n",
    "        with open(item[4], 'rb') as body:\n",
    "            s3.Object('shoot-buckets', item[4]).put(Body=body)\n",
    "            md = s3.Object('shoot-buckets', item[4]).Acl().put(ACL='public-read')\n",
    "\n",
    "            url = \" https://s3-us-west-2.amazonaws.com/shoot-buckets/\"+item[4]\n",
    "            metadata_item = {'PartitionKey': item[4], 'RowKey': item[0], 'Temp': item[1],\n",
    "                            'Conductivity': item[2], 'Concentration': item[3], 'url': url}\n",
    "            try:\n",
    "                table.put_item(Item=metadata_item)\n",
    "            except Exception as e:\n",
    "                raise e\n",
    "                print(\"item may already be there or another failure\")\n"
   ]
  },
  {
   "cell_type": "code",
   "execution_count": 40,
   "metadata": {},
   "outputs": [
    {
     "name": "stdout",
     "output_type": "stream",
     "text": [
      "{'Item': {'Temp': '-2.93', 'RowKey': '3', 'Conductivity': '57.1', 'Concentration': '3.7', 'PartitionKey': 'exp3.csv', 'url': ' https://s3-us-west-2.amazonaws.com/shoot-buckets/exp3.csv'}, 'ResponseMetadata': {'RequestId': '1I6SDLJIN22TBLUTAS6ICROBHNVV4KQNSO5AEMVJF66Q9ASUAAJG', 'HTTPStatusCode': 200, 'HTTPHeaders': {'server': 'Server', 'date': 'Mon, 25 Oct 2021 22:16:13 GMT', 'content-type': 'application/x-amz-json-1.0', 'content-length': '211', 'connection': 'keep-alive', 'x-amzn-requestid': '1I6SDLJIN22TBLUTAS6ICROBHNVV4KQNSO5AEMVJF66Q9ASUAAJG', 'x-amz-crc32': '482430803'}, 'RetryAttempts': 0}}\n",
      "{'Temp': '-2.93', 'RowKey': '3', 'Conductivity': '57.1', 'Concentration': '3.7', 'PartitionKey': 'exp3.csv', 'url': ' https://s3-us-west-2.amazonaws.com/shoot-buckets/exp3.csv'}\n"
     ]
    }
   ],
   "source": [
    "response = table.get_item( \n",
    "    Key={ \n",
    "        'PartitionKey': 'exp3.csv', \n",
    "        'RowKey': '3' \n",
    "    } \n",
    ") \n",
    "# print(response)\n",
    "item = response['Item'] \n",
    "print(item) "
   ]
  },
  {
   "cell_type": "code",
   "execution_count": 41,
   "metadata": {},
   "outputs": [
    {
     "data": {
      "text/plain": [
       "{'Item': {'Temp': '-2.93',\n",
       "  'RowKey': '3',\n",
       "  'Conductivity': '57.1',\n",
       "  'Concentration': '3.7',\n",
       "  'PartitionKey': 'exp3.csv',\n",
       "  'url': ' https://s3-us-west-2.amazonaws.com/shoot-buckets/exp3.csv'},\n",
       " 'ResponseMetadata': {'RequestId': '1I6SDLJIN22TBLUTAS6ICROBHNVV4KQNSO5AEMVJF66Q9ASUAAJG',\n",
       "  'HTTPStatusCode': 200,\n",
       "  'HTTPHeaders': {'server': 'Server',\n",
       "   'date': 'Mon, 25 Oct 2021 22:16:13 GMT',\n",
       "   'content-type': 'application/x-amz-json-1.0',\n",
       "   'content-length': '211',\n",
       "   'connection': 'keep-alive',\n",
       "   'x-amzn-requestid': '1I6SDLJIN22TBLUTAS6ICROBHNVV4KQNSO5AEMVJF66Q9ASUAAJG',\n",
       "   'x-amz-crc32': '482430803'},\n",
       "  'RetryAttempts': 0}}"
      ]
     },
     "execution_count": 41,
     "metadata": {},
     "output_type": "execute_result"
    }
   ],
   "source": [
    "response"
   ]
  },
  {
   "cell_type": "code",
   "execution_count": null,
   "metadata": {},
   "outputs": [],
   "source": []
  }
 ],
 "metadata": {
  "interpreter": {
   "hash": "601e929f7386226451aa2fcda97d6979a7371fdff34b5b1bba2b614d3199c8e8"
  },
  "kernelspec": {
   "display_name": "Python 3.10.0 64-bit",
   "name": "python3"
  },
  "language_info": {
   "codemirror_mode": {
    "name": "ipython",
    "version": 3
   },
   "file_extension": ".py",
   "mimetype": "text/x-python",
   "name": "python",
   "nbconvert_exporter": "python",
   "pygments_lexer": "ipython3",
   "version": "3.10.0"
  },
  "orig_nbformat": 4
 },
 "nbformat": 4,
 "nbformat_minor": 2
}
